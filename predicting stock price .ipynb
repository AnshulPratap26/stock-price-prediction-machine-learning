{
 "cells": [
  {
   "cell_type": "code",
   "execution_count": 4,
   "metadata": {},
   "outputs": [],
   "source": [
    "import pandas as pd\n",
    "import numpy as np\n",
    "import matplotlib.pyplot as plt\n",
    "import seaborn as sns"
   ]
  },
  {
   "cell_type": "code",
   "execution_count": 7,
   "metadata": {},
   "outputs": [],
   "source": [
    "data = pd.read_csv(r'E:\\VTI.csv',index_col='Date')"
   ]
  },
  {
   "cell_type": "code",
   "execution_count": 8,
   "metadata": {
    "scrolled": true
   },
   "outputs": [
    {
     "data": {
      "text/html": [
       "<div>\n",
       "<style scoped>\n",
       "    .dataframe tbody tr th:only-of-type {\n",
       "        vertical-align: middle;\n",
       "    }\n",
       "\n",
       "    .dataframe tbody tr th {\n",
       "        vertical-align: top;\n",
       "    }\n",
       "\n",
       "    .dataframe thead th {\n",
       "        text-align: right;\n",
       "    }\n",
       "</style>\n",
       "<table border=\"1\" class=\"dataframe\">\n",
       "  <thead>\n",
       "    <tr style=\"text-align: right;\">\n",
       "      <th></th>\n",
       "      <th>Open</th>\n",
       "      <th>High</th>\n",
       "      <th>Low</th>\n",
       "      <th>Close</th>\n",
       "      <th>Adj Close</th>\n",
       "      <th>Volume</th>\n",
       "    </tr>\n",
       "    <tr>\n",
       "      <th>Date</th>\n",
       "      <th></th>\n",
       "      <th></th>\n",
       "      <th></th>\n",
       "      <th></th>\n",
       "      <th></th>\n",
       "      <th></th>\n",
       "    </tr>\n",
       "  </thead>\n",
       "  <tbody>\n",
       "    <tr>\n",
       "      <th>2019-06-10</th>\n",
       "      <td>147.729996</td>\n",
       "      <td>148.570007</td>\n",
       "      <td>147.539993</td>\n",
       "      <td>147.610001</td>\n",
       "      <td>144.883133</td>\n",
       "      <td>2259800</td>\n",
       "    </tr>\n",
       "    <tr>\n",
       "      <th>2019-06-11</th>\n",
       "      <td>148.619995</td>\n",
       "      <td>148.830002</td>\n",
       "      <td>147.080002</td>\n",
       "      <td>147.470001</td>\n",
       "      <td>144.745712</td>\n",
       "      <td>1724500</td>\n",
       "    </tr>\n",
       "    <tr>\n",
       "      <th>2019-06-12</th>\n",
       "      <td>147.350006</td>\n",
       "      <td>147.639999</td>\n",
       "      <td>146.929993</td>\n",
       "      <td>147.270004</td>\n",
       "      <td>144.549408</td>\n",
       "      <td>1729900</td>\n",
       "    </tr>\n",
       "    <tr>\n",
       "      <th>2019-06-13</th>\n",
       "      <td>147.789993</td>\n",
       "      <td>148.089996</td>\n",
       "      <td>147.429993</td>\n",
       "      <td>147.949997</td>\n",
       "      <td>145.216858</td>\n",
       "      <td>1726600</td>\n",
       "    </tr>\n",
       "    <tr>\n",
       "      <th>2019-06-14</th>\n",
       "      <td>147.800003</td>\n",
       "      <td>147.990005</td>\n",
       "      <td>147.270004</td>\n",
       "      <td>147.630005</td>\n",
       "      <td>144.902771</td>\n",
       "      <td>1401000</td>\n",
       "    </tr>\n",
       "  </tbody>\n",
       "</table>\n",
       "</div>"
      ],
      "text/plain": [
       "                  Open        High         Low       Close   Adj Close  \\\n",
       "Date                                                                     \n",
       "2019-06-10  147.729996  148.570007  147.539993  147.610001  144.883133   \n",
       "2019-06-11  148.619995  148.830002  147.080002  147.470001  144.745712   \n",
       "2019-06-12  147.350006  147.639999  146.929993  147.270004  144.549408   \n",
       "2019-06-13  147.789993  148.089996  147.429993  147.949997  145.216858   \n",
       "2019-06-14  147.800003  147.990005  147.270004  147.630005  144.902771   \n",
       "\n",
       "             Volume  \n",
       "Date                 \n",
       "2019-06-10  2259800  \n",
       "2019-06-11  1724500  \n",
       "2019-06-12  1729900  \n",
       "2019-06-13  1726600  \n",
       "2019-06-14  1401000  "
      ]
     },
     "execution_count": 8,
     "metadata": {},
     "output_type": "execute_result"
    }
   ],
   "source": [
    "data.head()"
   ]
  },
  {
   "cell_type": "code",
   "execution_count": 11,
   "metadata": {},
   "outputs": [
    {
     "data": {
      "text/html": [
       "<div>\n",
       "<style scoped>\n",
       "    .dataframe tbody tr th:only-of-type {\n",
       "        vertical-align: middle;\n",
       "    }\n",
       "\n",
       "    .dataframe tbody tr th {\n",
       "        vertical-align: top;\n",
       "    }\n",
       "\n",
       "    .dataframe thead th {\n",
       "        text-align: right;\n",
       "    }\n",
       "</style>\n",
       "<table border=\"1\" class=\"dataframe\">\n",
       "  <thead>\n",
       "    <tr style=\"text-align: right;\">\n",
       "      <th></th>\n",
       "      <th>Open</th>\n",
       "      <th>High</th>\n",
       "      <th>Low</th>\n",
       "      <th>Close</th>\n",
       "      <th>Adj Close</th>\n",
       "      <th>Volume</th>\n",
       "    </tr>\n",
       "    <tr>\n",
       "      <th>Date</th>\n",
       "      <th></th>\n",
       "      <th></th>\n",
       "      <th></th>\n",
       "      <th></th>\n",
       "      <th></th>\n",
       "      <th></th>\n",
       "    </tr>\n",
       "  </thead>\n",
       "  <tbody>\n",
       "    <tr>\n",
       "      <th>2020-06-02</th>\n",
       "      <td>155.199997</td>\n",
       "      <td>156.000000</td>\n",
       "      <td>154.429993</td>\n",
       "      <td>155.919998</td>\n",
       "      <td>155.919998</td>\n",
       "      <td>4157200</td>\n",
       "    </tr>\n",
       "    <tr>\n",
       "      <th>2020-06-03</th>\n",
       "      <td>157.199997</td>\n",
       "      <td>158.800003</td>\n",
       "      <td>157.009995</td>\n",
       "      <td>158.350006</td>\n",
       "      <td>158.350006</td>\n",
       "      <td>9496400</td>\n",
       "    </tr>\n",
       "    <tr>\n",
       "      <th>2020-06-04</th>\n",
       "      <td>157.710007</td>\n",
       "      <td>158.649994</td>\n",
       "      <td>156.619995</td>\n",
       "      <td>157.850006</td>\n",
       "      <td>157.850006</td>\n",
       "      <td>5629200</td>\n",
       "    </tr>\n",
       "    <tr>\n",
       "      <th>2020-06-05</th>\n",
       "      <td>161.399994</td>\n",
       "      <td>163.080002</td>\n",
       "      <td>161.000000</td>\n",
       "      <td>161.899994</td>\n",
       "      <td>161.899994</td>\n",
       "      <td>4373400</td>\n",
       "    </tr>\n",
       "    <tr>\n",
       "      <th>2020-06-08</th>\n",
       "      <td>162.899994</td>\n",
       "      <td>164.199997</td>\n",
       "      <td>162.320007</td>\n",
       "      <td>164.100006</td>\n",
       "      <td>164.100006</td>\n",
       "      <td>5848700</td>\n",
       "    </tr>\n",
       "  </tbody>\n",
       "</table>\n",
       "</div>"
      ],
      "text/plain": [
       "                  Open        High         Low       Close   Adj Close  \\\n",
       "Date                                                                     \n",
       "2020-06-02  155.199997  156.000000  154.429993  155.919998  155.919998   \n",
       "2020-06-03  157.199997  158.800003  157.009995  158.350006  158.350006   \n",
       "2020-06-04  157.710007  158.649994  156.619995  157.850006  157.850006   \n",
       "2020-06-05  161.399994  163.080002  161.000000  161.899994  161.899994   \n",
       "2020-06-08  162.899994  164.199997  162.320007  164.100006  164.100006   \n",
       "\n",
       "             Volume  \n",
       "Date                 \n",
       "2020-06-02  4157200  \n",
       "2020-06-03  9496400  \n",
       "2020-06-04  5629200  \n",
       "2020-06-05  4373400  \n",
       "2020-06-08  5848700  "
      ]
     },
     "execution_count": 11,
     "metadata": {},
     "output_type": "execute_result"
    }
   ],
   "source": [
    "data.tail()"
   ]
  },
  {
   "cell_type": "code",
   "execution_count": 9,
   "metadata": {},
   "outputs": [
    {
     "name": "stdout",
     "output_type": "stream",
     "text": [
      "<class 'pandas.core.frame.DataFrame'>\n",
      "Index: 252 entries, 2019-06-10 to 2020-06-08\n",
      "Data columns (total 6 columns):\n",
      "Open         252 non-null float64\n",
      "High         252 non-null float64\n",
      "Low          252 non-null float64\n",
      "Close        252 non-null float64\n",
      "Adj Close    252 non-null float64\n",
      "Volume       252 non-null int64\n",
      "dtypes: float64(5), int64(1)\n",
      "memory usage: 12.8+ KB\n"
     ]
    }
   ],
   "source": [
    "data.info()"
   ]
  },
  {
   "cell_type": "code",
   "execution_count": 20,
   "metadata": {},
   "outputs": [
    {
     "data": {
      "text/html": [
       "<div>\n",
       "<style scoped>\n",
       "    .dataframe tbody tr th:only-of-type {\n",
       "        vertical-align: middle;\n",
       "    }\n",
       "\n",
       "    .dataframe tbody tr th {\n",
       "        vertical-align: top;\n",
       "    }\n",
       "\n",
       "    .dataframe thead th {\n",
       "        text-align: right;\n",
       "    }\n",
       "</style>\n",
       "<table border=\"1\" class=\"dataframe\">\n",
       "  <thead>\n",
       "    <tr style=\"text-align: right;\">\n",
       "      <th></th>\n",
       "      <th>Open</th>\n",
       "      <th>High</th>\n",
       "      <th>Low</th>\n",
       "      <th>Close</th>\n",
       "      <th>Adj Close</th>\n",
       "      <th>Volume</th>\n",
       "    </tr>\n",
       "  </thead>\n",
       "  <tbody>\n",
       "    <tr>\n",
       "      <th>count</th>\n",
       "      <td>252.000000</td>\n",
       "      <td>252.000000</td>\n",
       "      <td>252.000000</td>\n",
       "      <td>252.000000</td>\n",
       "      <td>252.000000</td>\n",
       "      <td>2.520000e+02</td>\n",
       "    </tr>\n",
       "    <tr>\n",
       "      <th>mean</th>\n",
       "      <td>151.852936</td>\n",
       "      <td>152.825556</td>\n",
       "      <td>150.743889</td>\n",
       "      <td>151.883691</td>\n",
       "      <td>150.633607</td>\n",
       "      <td>4.223456e+06</td>\n",
       "    </tr>\n",
       "    <tr>\n",
       "      <th>std</th>\n",
       "      <td>11.201069</td>\n",
       "      <td>10.541967</td>\n",
       "      <td>11.773754</td>\n",
       "      <td>11.126312</td>\n",
       "      <td>10.987038</td>\n",
       "      <td>3.499087e+06</td>\n",
       "    </tr>\n",
       "    <tr>\n",
       "      <th>min</th>\n",
       "      <td>113.650002</td>\n",
       "      <td>114.900002</td>\n",
       "      <td>109.489998</td>\n",
       "      <td>111.910004</td>\n",
       "      <td>111.356850</td>\n",
       "      <td>1.171000e+06</td>\n",
       "    </tr>\n",
       "    <tr>\n",
       "      <th>25%</th>\n",
       "      <td>147.707497</td>\n",
       "      <td>148.297497</td>\n",
       "      <td>146.545002</td>\n",
       "      <td>147.470001</td>\n",
       "      <td>145.217224</td>\n",
       "      <td>2.165425e+06</td>\n",
       "    </tr>\n",
       "    <tr>\n",
       "      <th>50%</th>\n",
       "      <td>152.154998</td>\n",
       "      <td>152.690002</td>\n",
       "      <td>151.369995</td>\n",
       "      <td>152.110001</td>\n",
       "      <td>150.367539</td>\n",
       "      <td>2.997150e+06</td>\n",
       "    </tr>\n",
       "    <tr>\n",
       "      <th>75%</th>\n",
       "      <td>158.819996</td>\n",
       "      <td>159.187496</td>\n",
       "      <td>158.134994</td>\n",
       "      <td>158.659996</td>\n",
       "      <td>157.675289</td>\n",
       "      <td>4.508950e+06</td>\n",
       "    </tr>\n",
       "    <tr>\n",
       "      <th>max</th>\n",
       "      <td>171.960007</td>\n",
       "      <td>172.559998</td>\n",
       "      <td>171.770004</td>\n",
       "      <td>172.169998</td>\n",
       "      <td>171.318985</td>\n",
       "      <td>2.228330e+07</td>\n",
       "    </tr>\n",
       "  </tbody>\n",
       "</table>\n",
       "</div>"
      ],
      "text/plain": [
       "             Open        High         Low       Close   Adj Close  \\\n",
       "count  252.000000  252.000000  252.000000  252.000000  252.000000   \n",
       "mean   151.852936  152.825556  150.743889  151.883691  150.633607   \n",
       "std     11.201069   10.541967   11.773754   11.126312   10.987038   \n",
       "min    113.650002  114.900002  109.489998  111.910004  111.356850   \n",
       "25%    147.707497  148.297497  146.545002  147.470001  145.217224   \n",
       "50%    152.154998  152.690002  151.369995  152.110001  150.367539   \n",
       "75%    158.819996  159.187496  158.134994  158.659996  157.675289   \n",
       "max    171.960007  172.559998  171.770004  172.169998  171.318985   \n",
       "\n",
       "             Volume  \n",
       "count  2.520000e+02  \n",
       "mean   4.223456e+06  \n",
       "std    3.499087e+06  \n",
       "min    1.171000e+06  \n",
       "25%    2.165425e+06  \n",
       "50%    2.997150e+06  \n",
       "75%    4.508950e+06  \n",
       "max    2.228330e+07  "
      ]
     },
     "execution_count": 20,
     "metadata": {},
     "output_type": "execute_result"
    }
   ],
   "source": [
    "data.describe()"
   ]
  },
  {
   "cell_type": "code",
   "execution_count": null,
   "metadata": {},
   "outputs": [],
   "source": []
  },
  {
   "cell_type": "code",
   "execution_count": 34,
   "metadata": {},
   "outputs": [
    {
     "data": {
      "text/plain": [
       "Open         1.000000\n",
       "High         0.995759\n",
       "Low          0.995045\n",
       "Close        0.990631\n",
       "Adj Close    0.987299\n",
       "Volume      -0.566853\n",
       "Name: Open, dtype: float64"
      ]
     },
     "execution_count": 34,
     "metadata": {},
     "output_type": "execute_result"
    }
   ],
   "source": [
    "# checking correlation\n",
    "corr  = data.corr()\n",
    "corr['Open'].sort_values(ascending=False)\n"
   ]
  },
  {
   "cell_type": "code",
   "execution_count": 42,
   "metadata": {},
   "outputs": [
    {
     "data": {
      "text/plain": [
       "array([[<matplotlib.axes._subplots.AxesSubplot object at 0x1C53D630>,\n",
       "        <matplotlib.axes._subplots.AxesSubplot object at 0x1C53BFF0>,\n",
       "        <matplotlib.axes._subplots.AxesSubplot object at 0x1C555E50>,\n",
       "        <matplotlib.axes._subplots.AxesSubplot object at 0x1C574F10>,\n",
       "        <matplotlib.axes._subplots.AxesSubplot object at 0x1C594FF0>,\n",
       "        <matplotlib.axes._subplots.AxesSubplot object at 0x1C5B4B30>],\n",
       "       [<matplotlib.axes._subplots.AxesSubplot object at 0x1C5D5C10>,\n",
       "        <matplotlib.axes._subplots.AxesSubplot object at 0x1C5F6CF0>,\n",
       "        <matplotlib.axes._subplots.AxesSubplot object at 0x1C6002B0>,\n",
       "        <matplotlib.axes._subplots.AxesSubplot object at 0x1C620450>,\n",
       "        <matplotlib.axes._subplots.AxesSubplot object at 0x1C658F90>,\n",
       "        <matplotlib.axes._subplots.AxesSubplot object at 0x1C683630>],\n",
       "       [<matplotlib.axes._subplots.AxesSubplot object at 0x1C6A46F0>,\n",
       "        <matplotlib.axes._subplots.AxesSubplot object at 0x1C6C37B0>,\n",
       "        <matplotlib.axes._subplots.AxesSubplot object at 0x1C6E4890>,\n",
       "        <matplotlib.axes._subplots.AxesSubplot object at 0x1C707970>,\n",
       "        <matplotlib.axes._subplots.AxesSubplot object at 0x1C726A50>,\n",
       "        <matplotlib.axes._subplots.AxesSubplot object at 0x1C745B30>],\n",
       "       [<matplotlib.axes._subplots.AxesSubplot object at 0x1C766C10>,\n",
       "        <matplotlib.axes._subplots.AxesSubplot object at 0x1C788CF0>,\n",
       "        <matplotlib.axes._subplots.AxesSubplot object at 0x1C7A8DD0>,\n",
       "        <matplotlib.axes._subplots.AxesSubplot object at 0x1C7CAEB0>,\n",
       "        <matplotlib.axes._subplots.AxesSubplot object at 0x1C7E9F90>,\n",
       "        <matplotlib.axes._subplots.AxesSubplot object at 0x1C80AAD0>],\n",
       "       [<matplotlib.axes._subplots.AxesSubplot object at 0x1C829BB0>,\n",
       "        <matplotlib.axes._subplots.AxesSubplot object at 0x1C84DC90>,\n",
       "        <matplotlib.axes._subplots.AxesSubplot object at 0x1C86CD70>,\n",
       "        <matplotlib.axes._subplots.AxesSubplot object at 0x1C88EE50>,\n",
       "        <matplotlib.axes._subplots.AxesSubplot object at 0x1C8AEF30>,\n",
       "        <matplotlib.axes._subplots.AxesSubplot object at 0x1C8CEFD0>],\n",
       "       [<matplotlib.axes._subplots.AxesSubplot object at 0x1C8FA6B0>,\n",
       "        <matplotlib.axes._subplots.AxesSubplot object at 0x1C91A790>,\n",
       "        <matplotlib.axes._subplots.AxesSubplot object at 0x1C93D870>,\n",
       "        <matplotlib.axes._subplots.AxesSubplot object at 0x1C95D950>,\n",
       "        <matplotlib.axes._subplots.AxesSubplot object at 0x1C97DA30>,\n",
       "        <matplotlib.axes._subplots.AxesSubplot object at 0x1C99DB10>]],\n",
       "      dtype=object)"
      ]
     },
     "execution_count": 42,
     "metadata": {},
     "output_type": "execute_result"
    },
    {
     "data": {
      "text/plain": [
       "<Figure size 1152x648 with 0 Axes>"
      ]
     },
     "metadata": {},
     "output_type": "display_data"
    },
    {
     "data": {
      "image/png": "[encoded data removed]",
      "text/plain": [
       "<Figure size 1152x648 with 36 Axes>"
      ]
     },
     "metadata": {
      "needs_background": "light"
     },
     "output_type": "display_data"
    }
   ],
   "source": [
    "\n",
    "from pandas.plotting import scatter_matrix\n",
    "attr = data.columns\n",
    "plt.figure(figsize=(16,9))\n",
    "scatter_matrix(data[attr],figsize=(16,9))\n"
   ]
  },
  {
   "cell_type": "code",
   "execution_count": 48,
   "metadata": {},
   "outputs": [],
   "source": [
    "# feature engineering | created two more columns ::\n",
    "data['O-C'] = data['Open'] - data['Close']\n",
    "data['H-L']= data['High'] - data['Low']"
   ]
  },
  {
   "cell_type": "code",
   "execution_count": 49,
   "metadata": {},
   "outputs": [
    {
     "data": {
      "text/html": [
       "<div>\n",
       "<style scoped>\n",
       "    .dataframe tbody tr th:only-of-type {\n",
       "        vertical-align: middle;\n",
       "    }\n",
       "\n",
       "    .dataframe tbody tr th {\n",
       "        vertical-align: top;\n",
       "    }\n",
       "\n",
       "    .dataframe thead th {\n",
       "        text-align: right;\n",
       "    }\n",
       "</style>\n",
       "<table border=\"1\" class=\"dataframe\">\n",
       "  <thead>\n",
       "    <tr style=\"text-align: right;\">\n",
       "      <th></th>\n",
       "      <th>Open</th>\n",
       "      <th>High</th>\n",
       "      <th>Low</th>\n",
       "      <th>Close</th>\n",
       "      <th>Adj Close</th>\n",
       "      <th>Volume</th>\n",
       "      <th>O-C</th>\n",
       "      <th>H-L</th>\n",
       "    </tr>\n",
       "    <tr>\n",
       "      <th>Date</th>\n",
       "      <th></th>\n",
       "      <th></th>\n",
       "      <th></th>\n",
       "      <th></th>\n",
       "      <th></th>\n",
       "      <th></th>\n",
       "      <th></th>\n",
       "      <th></th>\n",
       "    </tr>\n",
       "  </thead>\n",
       "  <tbody>\n",
       "    <tr>\n",
       "      <th>2019-06-10</th>\n",
       "      <td>147.729996</td>\n",
       "      <td>148.570007</td>\n",
       "      <td>147.539993</td>\n",
       "      <td>147.610001</td>\n",
       "      <td>144.883133</td>\n",
       "      <td>2259800</td>\n",
       "      <td>0.119995</td>\n",
       "      <td>1.030014</td>\n",
       "    </tr>\n",
       "    <tr>\n",
       "      <th>2019-06-11</th>\n",
       "      <td>148.619995</td>\n",
       "      <td>148.830002</td>\n",
       "      <td>147.080002</td>\n",
       "      <td>147.470001</td>\n",
       "      <td>144.745712</td>\n",
       "      <td>1724500</td>\n",
       "      <td>1.149994</td>\n",
       "      <td>1.750000</td>\n",
       "    </tr>\n",
       "    <tr>\n",
       "      <th>2019-06-12</th>\n",
       "      <td>147.350006</td>\n",
       "      <td>147.639999</td>\n",
       "      <td>146.929993</td>\n",
       "      <td>147.270004</td>\n",
       "      <td>144.549408</td>\n",
       "      <td>1729900</td>\n",
       "      <td>0.080002</td>\n",
       "      <td>0.710006</td>\n",
       "    </tr>\n",
       "    <tr>\n",
       "      <th>2019-06-13</th>\n",
       "      <td>147.789993</td>\n",
       "      <td>148.089996</td>\n",
       "      <td>147.429993</td>\n",
       "      <td>147.949997</td>\n",
       "      <td>145.216858</td>\n",
       "      <td>1726600</td>\n",
       "      <td>-0.160004</td>\n",
       "      <td>0.660003</td>\n",
       "    </tr>\n",
       "    <tr>\n",
       "      <th>2019-06-14</th>\n",
       "      <td>147.800003</td>\n",
       "      <td>147.990005</td>\n",
       "      <td>147.270004</td>\n",
       "      <td>147.630005</td>\n",
       "      <td>144.902771</td>\n",
       "      <td>1401000</td>\n",
       "      <td>0.169998</td>\n",
       "      <td>0.720001</td>\n",
       "    </tr>\n",
       "  </tbody>\n",
       "</table>\n",
       "</div>"
      ],
      "text/plain": [
       "                  Open        High         Low       Close   Adj Close  \\\n",
       "Date                                                                     \n",
       "2019-06-10  147.729996  148.570007  147.539993  147.610001  144.883133   \n",
       "2019-06-11  148.619995  148.830002  147.080002  147.470001  144.745712   \n",
       "2019-06-12  147.350006  147.639999  146.929993  147.270004  144.549408   \n",
       "2019-06-13  147.789993  148.089996  147.429993  147.949997  145.216858   \n",
       "2019-06-14  147.800003  147.990005  147.270004  147.630005  144.902771   \n",
       "\n",
       "             Volume       O-C       H-L  \n",
       "Date                                     \n",
       "2019-06-10  2259800  0.119995  1.030014  \n",
       "2019-06-11  1724500  1.149994  1.750000  \n",
       "2019-06-12  1729900  0.080002  0.710006  \n",
       "2019-06-13  1726600 -0.160004  0.660003  \n",
       "2019-06-14  1401000  0.169998  0.720001  "
      ]
     },
     "execution_count": 49,
     "metadata": {},
     "output_type": "execute_result"
    }
   ],
   "source": [
    "data.head()"
   ]
  },
  {
   "cell_type": "code",
   "execution_count": 86,
   "metadata": {},
   "outputs": [],
   "source": [
    "X = data.drop(columns='Adj Close',axis=1)\n",
    "Y = data.iloc[:,4:5]"
   ]
  },
  {
   "cell_type": "code",
   "execution_count": 87,
   "metadata": {},
   "outputs": [],
   "source": [
    "# all work with in pineline\n",
    "from sklearn.pipeline import Pipeline\n",
    "from sklearn.preprocessing import StandardScaler\n",
    "pineline = Pipeline([\n",
    "    ('standardscale',StandardScaler())\n",
    "])"
   ]
  },
  {
   "cell_type": "code",
   "execution_count": 90,
   "metadata": {},
   "outputs": [
    {
     "name": "stdout",
     "output_type": "stream",
     "text": [
      "Index(['Open', 'High', 'Low', 'Close', 'Adj Close', 'Volume', 'O-C', 'H-L'], dtype='object')\n"
     ]
    }
   ],
   "source": [
    "X_scaled = pineline.fit_transform(X)\n",
    "print(data.columns)"
   ]
  },
  {
   "cell_type": "code",
   "execution_count": 91,
   "metadata": {},
   "outputs": [],
   "source": [
    "# creating data frame with scalled arraays\n",
    "scaled_data = pd.DataFrame(X_scaled,columns = ['Open', 'High', 'Low', 'Close','Volume', 'O-C', 'H-L'])"
   ]
  },
  {
   "cell_type": "code",
   "execution_count": 92,
   "metadata": {},
   "outputs": [
    {
     "data": {
      "text/html": [
       "<div>\n",
       "<style scoped>\n",
       "    .dataframe tbody tr th:only-of-type {\n",
       "        vertical-align: middle;\n",
       "    }\n",
       "\n",
       "    .dataframe tbody tr th {\n",
       "        vertical-align: top;\n",
       "    }\n",
       "\n",
       "    .dataframe thead th {\n",
       "        text-align: right;\n",
       "    }\n",
       "</style>\n",
       "<table border=\"1\" class=\"dataframe\">\n",
       "  <thead>\n",
       "    <tr style=\"text-align: right;\">\n",
       "      <th></th>\n",
       "      <th>Open</th>\n",
       "      <th>High</th>\n",
       "      <th>Low</th>\n",
       "      <th>Close</th>\n",
       "      <th>Volume</th>\n",
       "      <th>O-C</th>\n",
       "      <th>H-L</th>\n",
       "    </tr>\n",
       "  </thead>\n",
       "  <tbody>\n",
       "    <tr>\n",
       "      <th>0</th>\n",
       "      <td>-0.368817</td>\n",
       "      <td>-0.404480</td>\n",
       "      <td>-0.272663</td>\n",
       "      <td>-0.384871</td>\n",
       "      <td>-0.562308</td>\n",
       "      <td>0.098725</td>\n",
       "      <td>-0.550137</td>\n",
       "    </tr>\n",
       "    <tr>\n",
       "      <th>1</th>\n",
       "      <td>-0.289202</td>\n",
       "      <td>-0.379768</td>\n",
       "      <td>-0.311810</td>\n",
       "      <td>-0.397479</td>\n",
       "      <td>-0.715595</td>\n",
       "      <td>0.773266</td>\n",
       "      <td>-0.173500</td>\n",
       "    </tr>\n",
       "    <tr>\n",
       "      <th>2</th>\n",
       "      <td>-0.402809</td>\n",
       "      <td>-0.492875</td>\n",
       "      <td>-0.324577</td>\n",
       "      <td>-0.415490</td>\n",
       "      <td>-0.714049</td>\n",
       "      <td>0.072534</td>\n",
       "      <td>-0.717538</td>\n",
       "    </tr>\n",
       "    <tr>\n",
       "      <th>3</th>\n",
       "      <td>-0.363450</td>\n",
       "      <td>-0.450104</td>\n",
       "      <td>-0.282025</td>\n",
       "      <td>-0.354252</td>\n",
       "      <td>-0.714994</td>\n",
       "      <td>-0.084645</td>\n",
       "      <td>-0.743696</td>\n",
       "    </tr>\n",
       "    <tr>\n",
       "      <th>4</th>\n",
       "      <td>-0.362555</td>\n",
       "      <td>-0.459608</td>\n",
       "      <td>-0.295640</td>\n",
       "      <td>-0.383069</td>\n",
       "      <td>-0.808232</td>\n",
       "      <td>0.131472</td>\n",
       "      <td>-0.712310</td>\n",
       "    </tr>\n",
       "  </tbody>\n",
       "</table>\n",
       "</div>"
      ],
      "text/plain": [
       "       Open      High       Low     Close    Volume       O-C       H-L\n",
       "0 -0.368817 -0.404480 -0.272663 -0.384871 -0.562308  0.098725 -0.550137\n",
       "1 -0.289202 -0.379768 -0.311810 -0.397479 -0.715595  0.773266 -0.173500\n",
       "2 -0.402809 -0.492875 -0.324577 -0.415490 -0.714049  0.072534 -0.717538\n",
       "3 -0.363450 -0.450104 -0.282025 -0.354252 -0.714994 -0.084645 -0.743696\n",
       "4 -0.362555 -0.459608 -0.295640 -0.383069 -0.808232  0.131472 -0.712310"
      ]
     },
     "execution_count": 92,
     "metadata": {},
     "output_type": "execute_result"
    }
   ],
   "source": [
    "scaled_data.head()"
   ]
  },
  {
   "cell_type": "code",
   "execution_count": 93,
   "metadata": {},
   "outputs": [],
   "source": [
    "# train test split\n",
    "from sklearn.model_selection import train_test_split\n",
    "X_train,x_test,Y_train,y_test = train_test_split(scaled_data,Y,test_size=0.2,random_state=0)"
   ]
  },
  {
   "cell_type": "code",
   "execution_count": 95,
   "metadata": {},
   "outputs": [],
   "source": [
    "# building model starts from here\n",
    "from sklearn.linear_model import LinearRegression\n",
    "model = LinearRegression().fit(X_train,Y_train)\n",
    "Y_pred = model.predict(x_test)"
   ]
  },
  {
   "cell_type": "code",
   "execution_count": 96,
   "metadata": {},
   "outputs": [
    {
     "data": {
      "text/plain": [
       "array([[165.8842289 ],\n",
       "       [147.5776136 ],\n",
       "       [169.19947706],\n",
       "       [152.61629936],\n",
       "       [165.45253506]])"
      ]
     },
     "execution_count": 96,
     "metadata": {},
     "output_type": "execute_result"
    }
   ],
   "source": [
    "Y_pred[:5]"
   ]
  },
  {
   "cell_type": "code",
   "execution_count": 106,
   "metadata": {},
   "outputs": [
    {
     "data": {
      "text/plain": [
       "array([[166.264099],\n",
       "       [147.602509],\n",
       "       [169.577637],\n",
       "       [152.590546],\n",
       "       [165.766571]])"
      ]
     },
     "execution_count": 106,
     "metadata": {},
     "output_type": "execute_result"
    }
   ],
   "source": [
    "y_test.iloc[:5].values"
   ]
  },
  {
   "cell_type": "code",
   "execution_count": 102,
   "metadata": {},
   "outputs": [],
   "source": [
    "from sklearn.metrics import mean_squared_error\n",
    "mse = mean_squared_error(y_test,Y_pred)\n",
    "rmse = np.sqrt(mse)"
   ]
  },
  {
   "cell_type": "markdown",
   "metadata": {},
   "source": [
    "rmse"
   ]
  },
  {
   "cell_type": "code",
   "execution_count": 103,
   "metadata": {},
   "outputs": [
    {
     "data": {
      "text/plain": [
       "0.7255533672590541"
      ]
     },
     "execution_count": 103,
     "metadata": {},
     "output_type": "execute_result"
    }
   ],
   "source": [
    "rmse"
   ]
  },
  {
   "cell_type": "code",
   "execution_count": 105,
   "metadata": {},
   "outputs": [
    {
     "data": {
      "text/plain": [
       "0.5264276887409518"
      ]
     },
     "execution_count": 105,
     "metadata": {},
     "output_type": "execute_result"
    }
   ],
   "source": [
    "mse"
   ]
  },
  {
   "cell_type": "code",
   "execution_count": 110,
   "metadata": {},
   "outputs": [
    {
     "data": {
      "text/plain": [
       "0.9954182723151841"
      ]
     },
     "execution_count": 110,
     "metadata": {},
     "output_type": "execute_result"
    }
   ],
   "source": [
    "model amodel.score(X_train,Y_train)"
   ]
  },
  {
   "cell_type": "code",
   "execution_count": null,
   "metadata": {},
   "outputs": [],
   "source": []
  },
  {
   "cell_type": "code",
   "execution_count": null,
   "metadata": {},
   "outputs": [],
   "source": []
  }
 ],
 "metadata": {
  "kernelspec": {
   "display_name": "Python 3",
   "language": "python",
   "name": "python3"
  },
  "language_info": {
   "codemirror_mode": {
    "name": "ipython",
    "version": 3
   },
   "file_extension": ".py",
   "mimetype": "text/x-python",
   "name": "python",
   "nbconvert_exporter": "python",
   "pygments_lexer": "ipython3",
   "version": "3.7.4"
  }
 },
 "nbformat": 4,
 "nbformat_minor": 4
}
